{
 "cells": [
  {
   "cell_type": "markdown",
   "metadata": {},
   "source": [
    "# Learning how to solve non-linear equations in python."
   ]
  },
  {
   "cell_type": "markdown",
   "metadata": {},
   "source": [
    "## Reference: https://www.youtube.com/watch?v=S4Qg2CsiIj8"
   ]
  },
  {
   "cell_type": "markdown",
   "metadata": {},
   "source": [
    "Sample equations:\n",
    "\n",
    "$\n",
    "\\begin{align}\n",
    "& x^2 + y^2 = 20 && y = x^2\n",
    "\\end{align}\n",
    "$\n",
    "\n",
    "Graphically, the first equation represents a circle with radius of sqrt 20 centered around the origin, and the second equation is a parabola that intersects it at two positive y-vals."
   ]
  },
  {
   "cell_type": "code",
   "execution_count": 1,
   "metadata": {},
   "outputs": [],
   "source": [
    "import numpy as np\n",
    "from scipy.optimize import *"
   ]
  },
  {
   "cell_type": "code",
   "execution_count": 2,
   "metadata": {},
   "outputs": [],
   "source": [
    "def myfun(z):\n",
    "    x = z[0]\n",
    "    y = z[1]\n",
    "    \n",
    "    F = np.zeros(2)\n",
    "    \n",
    "    F[0] = np.power(x,2) + np.power(y,2) - 20\n",
    "    F[1] = y - np.power(x,2)\n",
    "    \n",
    "    return F"
   ]
  },
  {
   "cell_type": "code",
   "execution_count": 3,
   "metadata": {},
   "outputs": [],
   "source": [
    "zguess_vals = np.array([1,1])"
   ]
  },
  {
   "cell_type": "code",
   "execution_count": 4,
   "metadata": {},
   "outputs": [],
   "source": [
    "z = fsolve(myfun, zguess_vals) # fsolve is from scipy.optimize"
   ]
  },
  {
   "cell_type": "code",
   "execution_count": 5,
   "metadata": {},
   "outputs": [
    {
     "name": "stdout",
     "output_type": "stream",
     "text": [
      "[2. 4.]\n"
     ]
    }
   ],
   "source": [
    "print(z)"
   ]
  },
  {
   "cell_type": "markdown",
   "metadata": {},
   "source": [
    "Add in a new equation:\n",
    "\n",
    "$\n",
    "\\begin{align}\n",
    "& x^2 + y^2 = 20 && y = x^2 && w + 5 = x * y\n",
    "\\end{align}\n",
    "$"
   ]
  },
  {
   "cell_type": "code",
   "execution_count": 13,
   "metadata": {},
   "outputs": [],
   "source": [
    "def newfun(z):\n",
    "    x = z[0]\n",
    "    y = z[1]\n",
    "    w = z[2]\n",
    "    \n",
    "    F = np.zeros(3)\n",
    "    \n",
    "    F[0] = np.power(x,2) + np.power(y,2) - 20\n",
    "    F[1] = np.power(x,2) - y\n",
    "    F[2] = w - x*y + 5\n",
    "    \n",
    "    return F"
   ]
  },
  {
   "cell_type": "code",
   "execution_count": 14,
   "metadata": {},
   "outputs": [],
   "source": [
    "new_guess = np.array([1,1,1])"
   ]
  },
  {
   "cell_type": "code",
   "execution_count": 15,
   "metadata": {},
   "outputs": [
    {
     "name": "stdout",
     "output_type": "stream",
     "text": [
      "[2. 4. 3.]\n"
     ]
    }
   ],
   "source": [
    "v = fsolve(newfun, new_guess)\n",
    "print(v)"
   ]
  }
 ],
 "metadata": {
  "kernelspec": {
   "display_name": "Python 3",
   "language": "python",
   "name": "python3"
  },
  "language_info": {
   "codemirror_mode": {
    "name": "ipython",
    "version": 3
   },
   "file_extension": ".py",
   "mimetype": "text/x-python",
   "name": "python",
   "nbconvert_exporter": "python",
   "pygments_lexer": "ipython3",
   "version": "3.6.9"
  }
 },
 "nbformat": 4,
 "nbformat_minor": 4
}
