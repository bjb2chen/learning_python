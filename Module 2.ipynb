{
 "cells": [
  {
   "cell_type": "markdown",
   "metadata": {},
   "source": [
    "# Self-learning basic Python course from learnche.org"
   ]
  },
  {
   "cell_type": "markdown",
   "metadata": {},
   "source": [
    "## Module 2: Strings, lists, and for-loops"
   ]
  },
  {
   "cell_type": "code",
   "execution_count": 16,
   "metadata": {},
   "outputs": [],
   "source": [
    "s = \"\"\"Secretly under development for the past three years, Bezos said the \n",
    "\"Blue Moon\" lander, using a powerful new hydrogen-powered engine generating up\n",
    "to 10,000 pounds of thrust, will be capable of landing up to 6.5 metric tons \n",
    "of equipment on the lunar surface.\"\"\""
   ]
  },
  {
   "cell_type": "code",
   "execution_count": 5,
   "metadata": {},
   "outputs": [
    {
     "name": "stdout",
     "output_type": "stream",
     "text": [
      "SECRETLY UNDER DEVELOPMENT FOR THE PAST THREE YEARS, BEZOS SAID THE \n",
      "\"BLUE MOON\" LANDER, USING A POWERFUL NEW HYDROGEN-POWERED ENGINE GENERATING UP\n",
      "TO 10,000 POUNDS OF THRUST, WILL BE CAPABLE OF LANDING UP TO 6.5 METRIC TONS \n",
      "OF EQUIPMENT ON THE LUNAR SURFACE.\n"
     ]
    }
   ],
   "source": [
    "print(s.upper())"
   ]
  },
  {
   "cell_type": "code",
   "execution_count": 6,
   "metadata": {},
   "outputs": [
    {
     "name": "stdout",
     "output_type": "stream",
     "text": [
      "sECRETLY UNDER DEVELOPMENT FOR THE PAST THREE YEARS, bEZOS SAID THE \n",
      "\"bLUE mOON\" LANDER, USING A POWERFUL NEW HYDROGEN-POWERED ENGINE GENERATING UP\n",
      "TO 10,000 POUNDS OF THRUST, WILL BE CAPABLE OF LANDING UP TO 6.5 METRIC TONS \n",
      "OF EQUIPMENT ON THE LUNAR SURFACE.\n"
     ]
    }
   ],
   "source": [
    "print(s.swapcase())"
   ]
  },
  {
   "cell_type": "code",
   "execution_count": 7,
   "metadata": {},
   "outputs": [
    {
     "name": "stdout",
     "output_type": "stream",
     "text": [
      "Secretly under development for the past three years, Bezos said the \n",
      "\"Blue Moon\" lander, using a powerful new hydrogen-powered engine generating up\n",
      "to 10,000 pounds of thrust, will be capable of landing up to 6.5 metric tons \n",
      "of equipment on the lunar surface.Secretly under development for the past three years, Bezos said the \n",
      "\"Blue Moon\" lander, using a powerful new hydrogen-powered engine generating up\n",
      "to 10,000 pounds of thrust, will be capable of landing up to 6.5 metric tons \n",
      "of equipment on the lunar surface.Secretly under development for the past three years, Bezos said the \n",
      "\"Blue Moon\" lander, using a powerful new hydrogen-powered engine generating up\n",
      "to 10,000 pounds of thrust, will be capable of landing up to 6.5 metric tons \n",
      "of equipment on the lunar surface.Secretly under development for the past three years, Bezos said the \n",
      "\"Blue Moon\" lander, using a powerful new hydrogen-powered engine generating up\n",
      "to 10,000 pounds of thrust, will be capable of landing up to 6.5 metric tons \n",
      "of equipment on the lunar surface.Secretly under development for the past three years, Bezos said the \n",
      "\"Blue Moon\" lander, using a powerful new hydrogen-powered engine generating up\n",
      "to 10,000 pounds of thrust, will be capable of landing up to 6.5 metric tons \n",
      "of equipment on the lunar surface.Secretly under development for the past three years, Bezos said the \n",
      "\"Blue Moon\" lander, using a powerful new hydrogen-powered engine generating up\n",
      "to 10,000 pounds of thrust, will be capable of landing up to 6.5 metric tons \n",
      "of equipment on the lunar surface.Secretly under development for the past three years, Bezos said the \n",
      "\"Blue Moon\" lander, using a powerful new hydrogen-powered engine generating up\n",
      "to 10,000 pounds of thrust, will be capable of landing up to 6.5 metric tons \n",
      "of equipment on the lunar surface.Secretly under development for the past three years, Bezos said the \n",
      "\"Blue Moon\" lander, using a powerful new hydrogen-powered engine generating up\n",
      "to 10,000 pounds of thrust, will be capable of landing up to 6.5 metric tons \n",
      "of equipment on the lunar surface.\n"
     ]
    }
   ],
   "source": [
    "print(s * 8)"
   ]
  },
  {
   "cell_type": "code",
   "execution_count": 8,
   "metadata": {},
   "outputs": [
    {
     "name": "stdout",
     "output_type": "stream",
     "text": [
      "Secretly under development for the past three years, Bezos said the \n",
      "\"Blue Moon\" lander, using a powerful new hydrogen-powered engine generating up\n",
      "to 10,000 pounds of thrust, will be capable of landing up to 6.5 metric tons \n",
      "of equipment on the lunar surface.Secretly under development for the past three years, Bezos said the \n",
      "\"Blue Moon\" lander, using a powerful new hydrogen-powered engine generating up\n",
      "to 10,000 pounds of thrust, will be capable of landing up to 6.5 metric tons \n",
      "of equipment on the lunar surface.\n"
     ]
    }
   ],
   "source": [
    "print(s + s)"
   ]
  },
  {
   "cell_type": "code",
   "execution_count": 9,
   "metadata": {},
   "outputs": [
    {
     "name": "stdout",
     "output_type": "stream",
     "text": [
      "260\n"
     ]
    }
   ],
   "source": [
    "print(len(s))"
   ]
  },
  {
   "cell_type": "code",
   "execution_count": 10,
   "metadata": {},
   "outputs": [
    {
     "name": "stdout",
     "output_type": "stream",
     "text": [
      "3\n"
     ]
    }
   ],
   "source": [
    "print(s.count(\"the\"))"
   ]
  },
  {
   "cell_type": "code",
   "execution_count": 11,
   "metadata": {},
   "outputs": [
    {
     "name": "stdout",
     "output_type": "stream",
     "text": [
      "0\n"
     ]
    }
   ],
   "source": [
    "print(s.index(\"Secretly\"))"
   ]
  },
  {
   "cell_type": "code",
   "execution_count": 12,
   "metadata": {},
   "outputs": [
    {
     "name": "stdout",
     "output_type": "stream",
     "text": [
      "53\n"
     ]
    }
   ],
   "source": [
    "print(s.index(\"Bezos\"))"
   ]
  },
  {
   "cell_type": "code",
   "execution_count": 17,
   "metadata": {},
   "outputs": [
    {
     "data": {
      "text/plain": [
       "True"
      ]
     },
     "execution_count": 17,
     "metadata": {},
     "output_type": "execute_result"
    }
   ],
   "source": [
    "def fun(input_str):\n",
    "    \n",
    "    if s.endswith(\".\"):\n",
    "        return True\n",
    "    else:\n",
    "        return False\n",
    "\n",
    "fun(s)"
   ]
  },
  {
   "cell_type": "code",
   "execution_count": 18,
   "metadata": {},
   "outputs": [
    {
     "name": "stdout",
     "output_type": "stream",
     "text": [
      "Secretly under development for the past three years, Bezos said the \n",
      "\"Blue Moon\" lander, using a powerful new nuclear-powered engine generating up\n",
      "to 10,000 pounds of thrust, will be capable of landing up to 6.5 metric tons \n",
      "of equipment on the lunar surface.\n"
     ]
    }
   ],
   "source": [
    "print(s.replace('hydrogen','nuclear'))"
   ]
  },
  {
   "cell_type": "code",
   "execution_count": 20,
   "metadata": {},
   "outputs": [],
   "source": [
    "#print(s.replace('','\\n'))"
   ]
  },
  {
   "cell_type": "code",
   "execution_count": 21,
   "metadata": {},
   "outputs": [
    {
     "data": {
      "text/plain": [
       "['__add__',\n",
       " '__class__',\n",
       " '__contains__',\n",
       " '__delattr__',\n",
       " '__dir__',\n",
       " '__doc__',\n",
       " '__eq__',\n",
       " '__format__',\n",
       " '__ge__',\n",
       " '__getattribute__',\n",
       " '__getitem__',\n",
       " '__getnewargs__',\n",
       " '__gt__',\n",
       " '__hash__',\n",
       " '__init__',\n",
       " '__init_subclass__',\n",
       " '__iter__',\n",
       " '__le__',\n",
       " '__len__',\n",
       " '__lt__',\n",
       " '__mod__',\n",
       " '__mul__',\n",
       " '__ne__',\n",
       " '__new__',\n",
       " '__reduce__',\n",
       " '__reduce_ex__',\n",
       " '__repr__',\n",
       " '__rmod__',\n",
       " '__rmul__',\n",
       " '__setattr__',\n",
       " '__sizeof__',\n",
       " '__str__',\n",
       " '__subclasshook__',\n",
       " 'capitalize',\n",
       " 'casefold',\n",
       " 'center',\n",
       " 'count',\n",
       " 'encode',\n",
       " 'endswith',\n",
       " 'expandtabs',\n",
       " 'find',\n",
       " 'format',\n",
       " 'format_map',\n",
       " 'index',\n",
       " 'isalnum',\n",
       " 'isalpha',\n",
       " 'isdecimal',\n",
       " 'isdigit',\n",
       " 'isidentifier',\n",
       " 'islower',\n",
       " 'isnumeric',\n",
       " 'isprintable',\n",
       " 'isspace',\n",
       " 'istitle',\n",
       " 'isupper',\n",
       " 'join',\n",
       " 'ljust',\n",
       " 'lower',\n",
       " 'lstrip',\n",
       " 'maketrans',\n",
       " 'partition',\n",
       " 'replace',\n",
       " 'rfind',\n",
       " 'rindex',\n",
       " 'rjust',\n",
       " 'rpartition',\n",
       " 'rsplit',\n",
       " 'rstrip',\n",
       " 'split',\n",
       " 'splitlines',\n",
       " 'startswith',\n",
       " 'strip',\n",
       " 'swapcase',\n",
       " 'title',\n",
       " 'translate',\n",
       " 'upper',\n",
       " 'zfill']"
      ]
     },
     "execution_count": 21,
     "metadata": {},
     "output_type": "execute_result"
    }
   ],
   "source": [
    "dir(str)"
   ]
  },
  {
   "cell_type": "code",
   "execution_count": 23,
   "metadata": {},
   "outputs": [
    {
     "name": "stdout",
     "output_type": "stream",
     "text": [
      "Help on method_descriptor:\n",
      "\n",
      "title(...)\n",
      "    S.title() -> str\n",
      "    \n",
      "    Return a titlecased version of S, i.e. words start with title case\n",
      "    characters, all remaining cased characters have lower case.\n",
      "\n",
      "Help on method_descriptor:\n",
      "\n",
      "find(...)\n",
      "    S.find(sub[, start[, end]]) -> int\n",
      "    \n",
      "    Return the lowest index in S where substring sub is found,\n",
      "    such that sub is contained within S[start:end].  Optional\n",
      "    arguments start and end are interpreted as in slice notation.\n",
      "    \n",
      "    Return -1 on failure.\n",
      "\n",
      "Help on method_descriptor:\n",
      "\n",
      "index(...)\n",
      "    S.index(sub[, start[, end]]) -> int\n",
      "    \n",
      "    Return the lowest index in S where substring sub is found, \n",
      "    such that sub is contained within S[start:end].  Optional\n",
      "    arguments start and end are interpreted as in slice notation.\n",
      "    \n",
      "    Raises ValueError when the substring is not found.\n",
      "\n"
     ]
    }
   ],
   "source": [
    "help(str.title)\n",
    "help(str.find)\n",
    "help(str.index)"
   ]
  }
 ],
 "metadata": {
  "kernelspec": {
   "display_name": "Python 3",
   "language": "python",
   "name": "python3"
  },
  "language_info": {
   "codemirror_mode": {
    "name": "ipython",
    "version": 3
   },
   "file_extension": ".py",
   "mimetype": "text/x-python",
   "name": "python",
   "nbconvert_exporter": "python",
   "pygments_lexer": "ipython3",
   "version": "3.6.9"
  }
 },
 "nbformat": 4,
 "nbformat_minor": 4
}
