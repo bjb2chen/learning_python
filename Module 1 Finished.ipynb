{
 "cells": [
  {
   "cell_type": "markdown",
   "metadata": {},
   "source": [
    "# Self-learning basic Python course from learnche.org"
   ]
  },
  {
   "cell_type": "markdown",
   "metadata": {},
   "source": [
    "## Module 1: Overview"
   ]
  },
  {
   "cell_type": "markdown",
   "metadata": {},
   "source": [
    "You wish to automate your workflow to write a standardized statistical report. It should appear as follows on the screen:"
   ]
  },
  {
   "cell_type": "markdown",
   "metadata": {},
   "source": [
    "There were $\\textbf{4}$ outliers detected in the data set using Grubbs' test at the $\\textbf{99%}$ confidence level. These outliers will not be used in the subsequent calculations. The regression trend of $\\textbf{45.9}$ mg/day was detected for this product, with a p-value of $\\textbf{0.00341}$. This indicates that there is an important $\\textbf{rising}$ trend over time."
   ]
  },
  {
   "cell_type": "markdown",
   "metadata": {},
   "source": [
    "The 5 pieces in bold should be replaced with variables, so the above paragraph can be automatically written in the future with different variable values.\n",
    "\n",
    "Write the Python code, creating the 5 variables. <code>Print</code> your paragraph of text to the screen. The last variable can either be <code>'rising'</code> or <code>'falling'</code>. (In the next class we will see how you can use an if-else statement to write <code>'rising'</code> or <code>'falling'</code> depending on the sign of the regression slope."
   ]
  },
  {
   "cell_type": "code",
   "execution_count": 1,
   "metadata": {},
   "outputs": [
    {
     "name": "stdin",
     "output_type": "stream",
     "text": [
      "Number of outliers:  2\n",
      "Confidence level:  1\n",
      "Regression trend:  40\n",
      "p-value:  1\n",
      "Temporal trend:  falling\n"
     ]
    }
   ],
   "source": [
    "outliers = input('Number of outliers: ')\n",
    "conf_lvl = input('Confidence level: ')\n",
    "reg_trend = input('Regression trend: ')\n",
    "p_val = input('p-value: ')\n",
    "trend = input('Temporal trend: ')"
   ]
  },
  {
   "cell_type": "code",
   "execution_count": 2,
   "metadata": {},
   "outputs": [
    {
     "name": "stdout",
     "output_type": "stream",
     "text": [
      "There were 2 outliers detected in the data set using Grubbs' test at the 1% confidence level. These outliers will not be used in the subsequent calculations. THe regression trend of 40 mg//day was detected for this product, with a p-value of 1. This indicates that there is an important fallingtrend over time.\n"
     ]
    }
   ],
   "source": [
    "print('There were ' + outliers + ' outliers detected in the data set using Grubbs\\' test at the ' + conf_lvl + '% confidence level.',\n",
    "     'These outliers will not be used in the subsequent calculations. THe regression trend of ' + reg_trend + ' mg//day was detected for this product, with a p-value of ' + p_val + '. This indicates that there is an important ' + trend + 'trend over time.')"
   ]
  },
  {
   "cell_type": "code",
   "execution_count": 3,
   "metadata": {},
   "outputs": [
    {
     "name": "stdout",
     "output_type": "stream",
     "text": [
      "19.0\n",
      "3281.5\n",
      "32.0\n"
     ]
    }
   ],
   "source": [
    "a = 1 + 3 ** 2 * 4 / 2\n",
    "print(a)\n",
    "\n",
    "b = 1 + 3 ** (2 * 4) / 2\n",
    "print(b)\n",
    "\n",
    "c = (1 + 3) ** 2 * 4 / 2\n",
    "print(c)"
   ]
  },
  {
   "cell_type": "code",
   "execution_count": 4,
   "metadata": {},
   "outputs": [
    {
     "name": "stdin",
     "output_type": "stream",
     "text": [
      "a value:  2\n",
      "b value:  8\n",
      "c value:  9\n",
      "d value:  1\n"
     ]
    },
    {
     "name": "stdout",
     "output_type": "stream",
     "text": [
      "1.1111111111111112\n"
     ]
    }
   ],
   "source": [
    "a = float(input('a value: '))\n",
    "b = float(input('b value: '))\n",
    "c = float(input('c value: '))\n",
    "d = float(input('d value: '))\n",
    "\n",
    "x = (a + b)/(c * d)\n",
    "print(x)"
   ]
  },
  {
   "cell_type": "code",
   "execution_count": 5,
   "metadata": {},
   "outputs": [
    {
     "data": {
      "text/plain": [
       "True"
      ]
     },
     "execution_count": 5,
     "metadata": {},
     "output_type": "execute_result"
    }
   ],
   "source": [
    "#3 < 5\n",
    "#5 < 3\n",
    "#4 <= 4\n",
    "#4 <= 9.2\n",
    "#5 == 5\n",
    "#5. == 5      # float on the left, and int on the right. Does it matter?\n",
    "#5. != 5      # does that make sense?\n",
    "#True != False\n",
    "False < True"
   ]
  },
  {
   "cell_type": "markdown",
   "metadata": {},
   "source": [
    "In the quadratic equation"
   ]
  },
  {
   "cell_type": "markdown",
   "metadata": {},
   "source": [
    "$\n",
    "\\begin{align}\n",
    "ax^{2} + bx + c = 0\n",
    "\\end{align}\n",
    "$"
   ]
  },
  {
   "cell_type": "markdown",
   "metadata": {},
   "source": [
    "the short cut solution is given by"
   ]
  },
  {
   "cell_type": "markdown",
   "metadata": {},
   "source": [
    "$\n",
    "\\begin{align}\n",
    "x = -\\frac{b}{2a}\n",
    "\\end{align}\n",
    "$"
   ]
  },
  {
   "cell_type": "markdown",
   "metadata": {},
   "source": [
    "but only if $b^{2}-4ac = 0$ and $a \\neq 0$."
   ]
  },
  {
   "cell_type": "markdown",
   "metadata": {},
   "source": [
    "Verify if you can use this short-cut solution for these combinations:"
   ]
  },
  {
   "cell_type": "markdown",
   "metadata": {},
   "source": [
    "Tuple assignment:"
   ]
  },
  {
   "cell_type": "markdown",
   "metadata": {},
   "source": [
    "Combo 1:\n",
    "\n",
    "<code>a=3, b=-1, c=2 # use tuple-assignment to create these 3 variables in 1 line of code</code>"
   ]
  },
  {
   "cell_type": "code",
   "execution_count": 6,
   "metadata": {},
   "outputs": [
    {
     "name": "stdout",
     "output_type": "stream",
     "text": [
      "The shortcut can be used.\n"
     ]
    },
    {
     "data": {
      "text/plain": [
       "True"
      ]
     },
     "execution_count": 6,
     "metadata": {},
     "output_type": "execute_result"
    }
   ],
   "source": [
    "a, b, c = (3, -1, 2)\n",
    "\n",
    "def fun(a, b, c):\n",
    "    \n",
    "    if a == 0:\n",
    "        print('The shortcut cannot be used due to a being 0.')\n",
    "        return False\n",
    "\n",
    "    elif b**2-4*a*c == 0:\n",
    "        print('The shortcut cannot be used due to not satisfying the first condition.')\n",
    "        return False\n",
    "\n",
    "    else:\n",
    "        print('The shortcut can be used.')\n",
    "        return True\n",
    "    \n",
    "fun(a, b, c)"
   ]
  },
  {
   "cell_type": "markdown",
   "metadata": {},
   "source": [
    "Combo 2:"
   ]
  },
  {
   "cell_type": "markdown",
   "metadata": {},
   "source": [
    "<code>a=0, b=-1, c=2</code>"
   ]
  },
  {
   "cell_type": "code",
   "execution_count": 7,
   "metadata": {},
   "outputs": [
    {
     "name": "stdout",
     "output_type": "stream",
     "text": [
      "The shortcut cannot be used due to a being 0.\n"
     ]
    },
    {
     "data": {
      "text/plain": [
       "False"
      ]
     },
     "execution_count": 7,
     "metadata": {},
     "output_type": "execute_result"
    }
   ],
   "source": [
    "a, b, c = (0, -1, 2)\n",
    "\n",
    "def fun(a, b, c):\n",
    "    \n",
    "    if a == 0:\n",
    "        print('The shortcut cannot be used due to a being 0.')\n",
    "        return False\n",
    "\n",
    "    elif b**2-4*a*c == 0:\n",
    "        print('The shortcut cannot be used due to not satisfying the first condition.')\n",
    "        return False\n",
    "\n",
    "    else:\n",
    "        print('The shortcut can be used.')\n",
    "        return True\n",
    "    \n",
    "fun(a, b, c)"
   ]
  },
  {
   "cell_type": "markdown",
   "metadata": {},
   "source": [
    "Combo 3:"
   ]
  },
  {
   "cell_type": "markdown",
   "metadata": {},
   "source": [
    "<code>a=3, b=6, c=3</code>"
   ]
  },
  {
   "cell_type": "code",
   "execution_count": 8,
   "metadata": {},
   "outputs": [
    {
     "name": "stdout",
     "output_type": "stream",
     "text": [
      "The shortcut cannot be used due to not satisfying the first condition.\n"
     ]
    },
    {
     "data": {
      "text/plain": [
       "False"
      ]
     },
     "execution_count": 8,
     "metadata": {},
     "output_type": "execute_result"
    }
   ],
   "source": [
    "a, b, c = (3, 6, 3)\n",
    "\n",
    "def fun(a, b, c):\n",
    "    \n",
    "    if a == 0:\n",
    "        print('The shortcut cannot be used due to a being 0.')\n",
    "        return False\n",
    "\n",
    "    elif b**2-4*a*c == 0:\n",
    "        print('The shortcut cannot be used due to not satisfying the first condition.')\n",
    "        return False\n",
    "\n",
    "    else:\n",
    "        print('The shortcut can be used.')\n",
    "        return True\n",
    "    \n",
    "fun(a, b, c)"
   ]
  },
  {
   "cell_type": "markdown",
   "metadata": {},
   "source": [
    "## Last Exercises:"
   ]
  },
  {
   "cell_type": "markdown",
   "metadata": {},
   "source": [
    "1. The population of a country could be approximated by the formula"
   ]
  },
  {
   "cell_type": "markdown",
   "metadata": {},
   "source": [
    "<center>\n",
    "$\n",
    "\\begin{align}\n",
    "p(t) = \\frac{197273000}{1+ e^{-0.03134(t-1913)}}\n",
    "\\end{align}\n",
    "$\n",
    "</center>    "
   ]
  },
  {
   "cell_type": "markdown",
   "metadata": {},
   "source": [
    "where the time t is in years."
   ]
  },
  {
   "cell_type": "markdown",
   "metadata": {},
   "source": [
    " - What is the population in 1913?\n",
    " - What is the population in 2013?\n",
    " - Does the population grow and grow without bounds, or does it reach steady state (it stabilizes at some constant value eventually)"
   ]
  },
  {
   "cell_type": "code",
   "execution_count": 12,
   "metadata": {},
   "outputs": [],
   "source": [
    "import math"
   ]
  },
  {
   "cell_type": "code",
   "execution_count": 18,
   "metadata": {},
   "outputs": [
    {
     "name": "stdin",
     "output_type": "stream",
     "text": [
      "Time value (years):  100000\n"
     ]
    },
    {
     "name": "stdout",
     "output_type": "stream",
     "text": [
      "The population in the year 100000.0 is 197273000.0.\n"
     ]
    }
   ],
   "source": [
    "t = float(input('Time value (years): '))\n",
    "\n",
    "p = 197273000/(1+(math.exp(-0.03134*(t-1913))))\n",
    "\n",
    "print('The population in the year ' + str(t) + ' is ' + str(p) + '.')"
   ]
  },
  {
   "cell_type": "markdown",
   "metadata": {},
   "source": [
    "__The population does not grow without bounds. It reaches a constant value of 197273000 as time goes to infinity because the exponential contribution in the denominator becomes increasingly towards zero.__"
   ]
  },
  {
   "cell_type": "markdown",
   "metadata": {},
   "source": [
    "2. Explain to your partner whom you are working with, what some of the benefits are of writing your code in Python files."
   ]
  },
  {
   "cell_type": "markdown",
   "metadata": {},
   "source": [
    "***The best benefit of writing my code in Python files is the fact that python is a very universal and ubiquitous programming language that everybody is familiar with. In addition, it is very intuitive and friendly towards scientific computing purposes.***"
   ]
  },
  {
   "cell_type": "code",
   "execution_count": null,
   "metadata": {},
   "outputs": [],
   "source": []
  }
 ],
 "metadata": {
  "kernelspec": {
   "display_name": "Python 3",
   "language": "python",
   "name": "python3"
  },
  "language_info": {
   "codemirror_mode": {
    "name": "ipython",
    "version": 3
   },
   "file_extension": ".py",
   "mimetype": "text/x-python",
   "name": "python",
   "nbconvert_exporter": "python",
   "pygments_lexer": "ipython3",
   "version": "3.6.9"
  }
 },
 "nbformat": 4,
 "nbformat_minor": 4
}
