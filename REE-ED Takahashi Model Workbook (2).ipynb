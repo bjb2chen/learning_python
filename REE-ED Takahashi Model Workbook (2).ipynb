{
 "cells": [
  {
   "cell_type": "markdown",
   "metadata": {},
   "source": [
    "# Takahashi Model Emulation (Python Implementation)"
   ]
  },
  {
   "cell_type": "markdown",
   "metadata": {},
   "source": [
    "## From (1) Takahashi et al. (1993) Reference. SEPARATION OF LIGHT RARE-EARTH ELEMENTS FROM RARE-EARTH MIXTURE SOLUTION BY USE OF ELECTRODIALYSIS WITH COMPLEXING AGENTS."
   ]
  },
  {
   "cell_type": "markdown",
   "metadata": {},
   "source": [
    "### Attempting to solve the following DE for the REE ions $La^{3+}$ and $Nd^{3+}$:"
   ]
  },
  {
   "cell_type": "markdown",
   "metadata": {},
   "source": [
    "![](diff_eqn_16.png \"picture\")"
   ]
  },
  {
   "cell_type": "markdown",
   "metadata": {},
   "source": [
    "__Subscripts: F = feed solution, i = ion species, s = strip solution (aka concentrate solution)__"
   ]
  },
  {
   "cell_type": "markdown",
   "metadata": {},
   "source": [
    "__Bar notation == in membrane__"
   ]
  },
  {
   "cell_type": "markdown",
   "metadata": {},
   "source": [
    "__V = volume, C = concentration, S = surface area, J = flux in membrane, z = valence, D = diffusion coefficient, F = Faraday constant, I = current density__ "
   ]
  },
  {
   "cell_type": "code",
   "execution_count": 1,
   "metadata": {},
   "outputs": [],
   "source": [
    "import numpy as np\n",
    "import pandas as pd\n",
    "from scipy.integrate import solve_ivp\n",
    "from scipy.optimize import *\n",
    "import matplotlib.pyplot as plt\n",
    "%matplotlib inline\n",
    "np.seterr(divide='ignore');"
   ]
  },
  {
   "cell_type": "markdown",
   "metadata": {},
   "source": [
    "<code>Sample initial parameters:</code>\n",
    "\n",
    "$\n",
    "\\begin{align}\n",
    "La^{3+} = Nd^{3+} = 10~mol/m^3, && EDTA:REE = 0.5, && pH = 3, && Q = 100~mol/m^3\n",
    "\\end{align}\n",
    "$\n"
   ]
  },
  {
   "cell_type": "code",
   "execution_count": 2,
   "metadata": {},
   "outputs": [
    {
     "name": "stdout",
     "output_type": "stream",
     "text": [
      "Please input the initial parameters for a binary La/Nd w/ EDTA separation: \n"
     ]
    },
    {
     "name": "stdin",
     "output_type": "stream",
     "text": [
      "La and Nd initial concentration (mol/m^3):  10\n",
      "EDTA to REE Ratio (0 to 1.0):  0.5\n",
      "Initial pH:  3\n",
      "Ion exchange capacity (mol/m^3):  100\n"
     ]
    }
   ],
   "source": [
    "print('Please input the initial parameters for a binary La/Nd w/ EDTA separation: ')\n",
    "\n",
    "REE_conc = float(input('La and Nd initial concentration (mol/m^3): '))\n",
    "EDTA_ratio = float(input('EDTA to REE Ratio (0 to 1.0): '))\n",
    "pH = float(input('Initial pH: '))\n",
    "Q = float(input('Ion exchange capacity (mol/m^3): '))\n"
   ]
  },
  {
   "cell_type": "code",
   "execution_count": 3,
   "metadata": {},
   "outputs": [],
   "source": [
    "initial_concs = [REE_conc, REE_conc, REE_conc*EDTA_ratio, pH, Q]\n",
    "\n",
    "C_La_i = initial_concs[0]\n",
    "C_Nd_i = initial_concs[1]\n",
    "C_Na_i = initial_concs[2]\n",
    "C_H_i = initial_concs[3]\n",
    "Q = initial_concs[4]\n",
    "    \n",
    "\n",
    "def eq_79(mem_guess):\n",
    "\n",
    "    C_La_mem = mem_guess[0]\n",
    "    C_Nd_mem = mem_guess[1]\n",
    "    C_Na_mem = mem_guess[2]\n",
    "    C_H_mem = mem_guess[3]\n",
    "    \n",
    "    solution = np.zeros(4) # 4 equations to solve\n",
    "    \n",
    "    solution[0] = C_La_mem - (1.49 * np.power(C_H_mem, 3) * (C_La_i/(np.power(C_H_i,3)))**0.8)\n",
    "    solution[1] = C_Nd_mem - (1.15 * np.power(C_H_mem, 3) * (C_Nd_i/(np.power(C_H_i,3)))**0.8)\n",
    "    solution[2] = C_Na_mem - (0.32 * C_H_mem * (C_Na_i/C_H_i))\n",
    "    solution[3] = Q - (3 * (C_La_mem+C_Nd_mem) + C_Na_mem + C_H_mem)\n",
    "    \n",
    "    return solution\n"
   ]
  },
  {
   "cell_type": "code",
   "execution_count": 4,
   "metadata": {},
   "outputs": [
    {
     "name": "stdout",
     "output_type": "stream",
     "text": [
      "[17.95128253 13.85501672  1.59342687  2.98767538]\n"
     ]
    }
   ],
   "source": [
    "sample_guess = np.array([17.3, 13.4, 7.81, 0.00488])\n",
    "sample_guess2 = np.array([1,1,1,1]) # estimate membrane values\n",
    "eq_79_sol = fsolve(eq_79, sample_guess2)\n",
    "print(eq_79_sol)"
   ]
  },
  {
   "cell_type": "code",
   "execution_count": 5,
   "metadata": {},
   "outputs": [],
   "source": [
    "#List of constant values.\n",
    "surface_area = 0.005 \n",
    "valence = 3\n",
    "D_La = 4.4e13\n",
    "D_Nd = 5.2e13\n",
    "D_Na = 1.9e15\n",
    "D_H = 1.1e16\n",
    "\n",
    "C_La_mem0 = eq_79_sol[0] \n",
    "C_Nd_mem0 = eq_79_sol[1] \n",
    "C_Na_mem0 = eq_79_sol[2]\n",
    "C_H_mem0 = eq_79_sol[3]\n",
    "\n",
    "K_H_La = 1.49\n",
    "K_H_Nd = 1.15\n",
    "K_H_Na = 0.32\n",
    "\n",
    "#J_Na = D_Na*C_Na_mem0\n",
    "#J_H = D_H*C_H_mem0\n",
    "I = 20\n",
    "F = 96485\n",
    "V = 0.00125\n",
    "\n",
    "# IVP parameters\n",
    "tspan = [0, 100000]\n",
    "y0 = [C_La_mem0, C_Nd_mem0, C_Na_mem0, C_H_mem0]\n"
   ]
  },
  {
   "cell_type": "code",
   "execution_count": 6,
   "metadata": {},
   "outputs": [],
   "source": [
    "# Dynamics function\n",
    "def RKG_Takahashi(t, z):\n",
    "    '''\n",
    "        z[0] = C_La\n",
    "        z[1] = C_Nd\n",
    "        z[2] = C_Na\n",
    "        z[3] = C_H\n",
    "        \n",
    "        f1 = dC_La/dt\n",
    "        f2 = dC_Nd/dt\n",
    "        f3 = dC_Na/dt\n",
    "        f4 = dC_H/dt\n",
    "        \n",
    "        ** Need to convert f5-f8 into an array**\n",
    "    '''\n",
    "    ## solve the equations 7-9 simultaneously here prior to the four DEs\n",
    "    \n",
    "    C_La_mem, C_Nd_mem, C_Na_mem, C_H_mem = z # initial values\n",
    "    \n",
    "    f1 = surface_area * ((valence * D_La * C_La_mem) / (valence**2 * D_La * C_La_mem + valence**2 * D_Nd * C_Nd_mem + D_Na * C_Na_mem + D_H * C_H_mem)) * I/F * 1/-V\n",
    "    f2 = surface_area * ((valence * D_Nd * C_Nd_mem) / (valence**2 * D_Nd * C_Nd_mem + valence**2 * D_La * C_La_mem + D_Na * C_Na_mem + D_H * C_H_mem)) * I/F * 1/-V\n",
    "    f3 = surface_area * ((D_Na * C_Na_mem) / (valence**2 * D_La * C_La_mem + valence**2 * D_Nd * C_Nd_mem + D_Na * C_Na_mem + D_H * C_H_mem)) * I/F * 1/-V\n",
    "    f4 = surface_area * ((D_H * C_H_mem) / (valence**2 * D_La * C_La_mem + valence**2 * D_Nd * C_Nd_mem + D_Na * C_Na_mem + D_H * C_H_mem)) * I/F * 1/-V\n",
    "     \n",
    "    return [f1, f2, f3, f4]"
   ]
  },
  {
   "cell_type": "code",
   "execution_count": 7,
   "metadata": {},
   "outputs": [],
   "source": [
    "sol = solve_ivp(RKG_Takahashi, tspan, y0, method='RK45', t_eval = np.linspace(0, 21600, 30))"
   ]
  },
  {
   "cell_type": "code",
   "execution_count": 8,
   "metadata": {},
   "outputs": [
    {
     "data": {
      "text/plain": [
       "scipy.integrate._ivp.ivp.OdeResult"
      ]
     },
     "execution_count": 8,
     "metadata": {},
     "output_type": "execute_result"
    }
   ],
   "source": [
    "type(sol)"
   ]
  },
  {
   "cell_type": "code",
   "execution_count": 9,
   "metadata": {},
   "outputs": [
    {
     "data": {
      "text/plain": [
       "  message: 'The solver successfully reached the end of the integration interval.'\n",
       "     nfev: 404\n",
       "     njev: 0\n",
       "      nlu: 0\n",
       "      sol: None\n",
       "   status: 0\n",
       "  success: True\n",
       "        t: array([    0.        ,   744.82758621,  1489.65517241,  2234.48275862,\n",
       "        2979.31034483,  3724.13793103,  4468.96551724,  5213.79310345,\n",
       "        5958.62068966,  6703.44827586,  7448.27586207,  8193.10344828,\n",
       "        8937.93103448,  9682.75862069, 10427.5862069 , 11172.4137931 ,\n",
       "       11917.24137931, 12662.06896552, 13406.89655172, 14151.72413793,\n",
       "       14896.55172414, 15641.37931034, 16386.20689655, 17131.03448276,\n",
       "       17875.86206897, 18620.68965517, 19365.51724138, 20110.34482759,\n",
       "       20855.17241379, 21600.        ])\n",
       " t_events: None\n",
       "        y: array([[1.79512825e+01, 1.79202914e+01, 1.78862089e+01, 1.78485170e+01,\n",
       "        1.78066466e+01, 1.77600554e+01, 1.77082286e+01, 1.76506864e+01,\n",
       "        1.75870919e+01, 1.75173829e+01, 1.74418522e+01, 1.73610353e+01,\n",
       "        1.72756740e+01, 1.71866266e+01, 1.70946189e+01, 1.70003314e+01,\n",
       "        1.69042350e+01, 1.68067231e+01, 1.67080568e+01, 1.66084279e+01,\n",
       "        1.65079745e+01, 1.64067935e+01, 1.63049602e+01, 1.62025305e+01,\n",
       "        1.60995513e+01, 1.59960606e+01, 1.58920923e+01, 1.57876760e+01,\n",
       "        1.56828392e+01, 1.55776067e+01],\n",
       "       [1.38550167e+01, 1.38267529e+01, 1.37956800e+01, 1.37613289e+01,\n",
       "        1.37231851e+01, 1.36807599e+01, 1.36335911e+01, 1.35812499e+01,\n",
       "        1.35234395e+01, 1.34601144e+01, 1.33915524e+01, 1.33182518e+01,\n",
       "        1.32408967e+01, 1.31602753e+01, 1.30770535e+01, 1.29918539e+01,\n",
       "        1.29051083e+01, 1.28171764e+01, 1.27282979e+01, 1.26386491e+01,\n",
       "        1.25483574e+01, 1.24575125e+01, 1.23661848e+01, 1.22744268e+01,\n",
       "        1.21822828e+01, 1.20897890e+01, 1.19969779e+01, 1.19038778e+01,\n",
       "        1.18105155e+01, 1.17169147e+01],\n",
       "       [1.59342687e+00, 1.55428522e+00, 1.51227413e+00, 1.46704501e+00,\n",
       "        1.41827914e+00, 1.36579228e+00, 1.30953471e+00, 1.24959952e+00,\n",
       "        1.18633676e+00, 1.12042188e+00, 1.05285619e+00, 9.84778720e-01,\n",
       "        9.17334452e-01, 8.51574619e-01, 7.88256765e-01, 7.27935713e-01,\n",
       "        6.70898874e-01, 6.17294881e-01, 5.67134196e-01, 5.20353843e-01,\n",
       "        4.76842025e-01, 4.36457124e-01, 3.99044006e-01, 3.64440052e-01,\n",
       "        3.32482029e-01, 3.03008373e-01, 2.75861767e-01, 2.50890104e-01,\n",
       "        2.27947237e-01, 2.06893656e-01],\n",
       "       [2.98767538e+00, 2.58701229e+00, 2.20691999e+00, 1.85070809e+00,\n",
       "        1.52194729e+00, 1.22391362e+00, 9.59588471e-01, 7.31603992e-01,\n",
       "        5.41512146e-01, 3.88959654e-01, 2.71233810e-01, 1.84093885e-01,\n",
       "        1.22117790e-01, 7.93141528e-02, 5.07510507e-02, 3.19636804e-02,\n",
       "        1.99570342e-02, 1.23226336e-02, 7.54821721e-03, 4.59191605e-03,\n",
       "        2.76937244e-03, 1.66221844e-03, 9.88883686e-04, 5.86287104e-04,\n",
       "        3.44241377e-04, 2.01914296e-04, 1.16863306e-04, 6.81041377e-05,\n",
       "        3.87146792e-05, 2.23668361e-05]])\n",
       " y_events: None"
      ]
     },
     "execution_count": 9,
     "metadata": {},
     "output_type": "execute_result"
    }
   ],
   "source": [
    "sol"
   ]
  },
  {
   "cell_type": "code",
   "execution_count": 23,
   "metadata": {},
   "outputs": [
    {
     "data": {
      "image/png": "[encoded data removed]",
      "text/plain": [
       "<Figure size 432x288 with 1 Axes>"
      ]
     },
     "metadata": {
      "needs_background": "light"
     },
     "output_type": "display_data"
    }
   ],
   "source": [
    "# La solution\n",
    "plt.plot(sol.t, sol.y[0], 'crimson');\n",
    "plt.title('Comparison of La over time')\n",
    "plt.xlabel('Time (min)')\n",
    "plt.ylabel('Concentration of La (mol/m^3)');"
   ]
  },
  {
   "cell_type": "code",
   "execution_count": 24,
   "metadata": {},
   "outputs": [
    {
     "data": {
      "image/png": "[encoded data removed]",
      "text/plain": [
       "<Figure size 432x288 with 1 Axes>"
      ]
     },
     "metadata": {
      "needs_background": "light"
     },
     "output_type": "display_data"
    }
   ],
   "source": [
    "# Nd Solution\n",
    "plt.plot(sol.t, sol.y[1], color='deepskyblue');\n",
    "plt.title('Comparison of Nd over time')\n",
    "plt.xlabel('Time (min)')\n",
    "plt.ylabel('Concentration of Nd (mol/m^3)');"
   ]
  },
  {
   "cell_type": "code",
   "execution_count": 25,
   "metadata": {},
   "outputs": [
    {
     "data": {
      "image/png": "[encoded data removed]",
      "text/plain": [
       "<Figure size 432x288 with 1 Axes>"
      ]
     },
     "metadata": {
      "needs_background": "light"
     },
     "output_type": "display_data"
    }
   ],
   "source": [
    "# Na Solution\n",
    "plt.plot(sol.t, sol.y[2], color='lightpink');\n",
    "plt.title('Comparison of Na over time')\n",
    "plt.xlabel('Time (min)')\n",
    "plt.ylabel('Concentration of Na (mol/m^3)');"
   ]
  },
  {
   "cell_type": "code",
   "execution_count": 22,
   "metadata": {},
   "outputs": [
    {
     "data": {
      "image/png": "[encoded data removed]",
      "text/plain": [
       "<Figure size 432x288 with 1 Axes>"
      ]
     },
     "metadata": {
      "needs_background": "light"
     },
     "output_type": "display_data"
    }
   ],
   "source": [
    "# H Solution\n",
    "plt.plot(sol.t, sol.y[3], color='mediumseagreen');\n",
    "plt.title('Comparison of H over time')\n",
    "plt.xlabel('Time (min)')\n",
    "plt.ylabel('Concentration of H (mol/m^3)');"
   ]
  },
  {
   "cell_type": "markdown",
   "metadata": {},
   "source": [
    "![](model_pdf.PNG \"picture\")"
   ]
  }
 ],
 "metadata": {
  "kernelspec": {
   "display_name": "Anaconda 3.2020.02",
   "language": "python",
   "name": "uw-anaconda-3-2020-02"
  },
  "language_info": {
   "codemirror_mode": {
    "name": "ipython",
    "version": 3
   },
   "file_extension": ".py",
   "mimetype": "text/x-python",
   "name": "python",
   "nbconvert_exporter": "python",
   "pygments_lexer": "ipython3",
   "version": "3.7.6"
  }
 },
 "nbformat": 4,
 "nbformat_minor": 4
}
